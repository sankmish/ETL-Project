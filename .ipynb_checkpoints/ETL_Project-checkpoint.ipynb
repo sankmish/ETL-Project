{
 "cells": [
  {
   "cell_type": "code",
   "execution_count": 1,
   "metadata": {},
   "outputs": [],
   "source": [
    "import pandas as pd\n",
    "from sqlalchemy import create_engine"
   ]
  },
  {
   "cell_type": "markdown",
   "metadata": {
    "slideshow": {
     "slide_type": "-"
    }
   },
   "source": [
    "### Store CSV into DataFrame"
   ]
  },
  {
   "cell_type": "code",
   "execution_count": 2,
   "metadata": {
    "scrolled": true
   },
   "outputs": [
    {
     "data": {
      "text/html": [
       "<div>\n",
       "<style scoped>\n",
       "    .dataframe tbody tr th:only-of-type {\n",
       "        vertical-align: middle;\n",
       "    }\n",
       "\n",
       "    .dataframe tbody tr th {\n",
       "        vertical-align: top;\n",
       "    }\n",
       "\n",
       "    .dataframe thead th {\n",
       "        text-align: right;\n",
       "    }\n",
       "</style>\n",
       "<table border=\"1\" class=\"dataframe\">\n",
       "  <thead>\n",
       "    <tr style=\"text-align: right;\">\n",
       "      <th></th>\n",
       "      <th>Date</th>\n",
       "      <th>Open</th>\n",
       "      <th>Adj Close</th>\n",
       "      <th>Volume</th>\n",
       "    </tr>\n",
       "  </thead>\n",
       "  <tbody>\n",
       "    <tr>\n",
       "      <th>0</th>\n",
       "      <td>2017-10-25</td>\n",
       "      <td>2566.520020</td>\n",
       "      <td>2557.149902</td>\n",
       "      <td>3874510000</td>\n",
       "    </tr>\n",
       "    <tr>\n",
       "      <th>1</th>\n",
       "      <td>2017-10-26</td>\n",
       "      <td>2560.080078</td>\n",
       "      <td>2560.399902</td>\n",
       "      <td>3869050000</td>\n",
       "    </tr>\n",
       "    <tr>\n",
       "      <th>2</th>\n",
       "      <td>2017-10-27</td>\n",
       "      <td>2570.260010</td>\n",
       "      <td>2581.070068</td>\n",
       "      <td>3887110000</td>\n",
       "    </tr>\n",
       "    <tr>\n",
       "      <th>3</th>\n",
       "      <td>2017-10-30</td>\n",
       "      <td>2577.750000</td>\n",
       "      <td>2572.830078</td>\n",
       "      <td>3658870000</td>\n",
       "    </tr>\n",
       "    <tr>\n",
       "      <th>4</th>\n",
       "      <td>2017-10-31</td>\n",
       "      <td>2575.989990</td>\n",
       "      <td>2575.260010</td>\n",
       "      <td>3827230000</td>\n",
       "    </tr>\n",
       "  </tbody>\n",
       "</table>\n",
       "</div>"
      ],
      "text/plain": [
       "         Date         Open    Adj Close      Volume\n",
       "0  2017-10-25  2566.520020  2557.149902  3874510000\n",
       "1  2017-10-26  2560.080078  2560.399902  3869050000\n",
       "2  2017-10-27  2570.260010  2581.070068  3887110000\n",
       "3  2017-10-30  2577.750000  2572.830078  3658870000\n",
       "4  2017-10-31  2575.989990  2575.260010  3827230000"
      ]
     },
     "execution_count": 2,
     "metadata": {},
     "output_type": "execute_result"
    }
   ],
   "source": [
    "SP500 = \"Resources\\^GSPC.csv\"\n",
    "stock_df = pd.read_csv(SP500)\n",
    "stock_df = stock_df[[\"Date\", \"Open\", \"Adj Close\", \"Volume\"]]\n",
    "stock_df.head()"
   ]
  },
  {
   "cell_type": "markdown",
   "metadata": {},
   "source": [
    "### Clean DataFrame"
   ]
  },
  {
   "cell_type": "code",
   "execution_count": 3,
   "metadata": {},
   "outputs": [],
   "source": [
    "stock_df = stock_df.loc[:,['Date','Open','Adj Close','Volume']]\n",
    "stock_df['Stock_Returns'] = stock_df['Adj Close'].pct_change().fillna(0) * 100\n",
    "stock_df = stock_df.rename(columns={'Volume':'Stock_Volume','Open':'Stock_Open', 'Adj Close':'Stock_Close'})"
   ]
  },
  {
   "cell_type": "code",
   "execution_count": 4,
   "metadata": {},
   "outputs": [
    {
     "data": {
      "text/html": [
       "<div>\n",
       "<style scoped>\n",
       "    .dataframe tbody tr th:only-of-type {\n",
       "        vertical-align: middle;\n",
       "    }\n",
       "\n",
       "    .dataframe tbody tr th {\n",
       "        vertical-align: top;\n",
       "    }\n",
       "\n",
       "    .dataframe thead th {\n",
       "        text-align: right;\n",
       "    }\n",
       "</style>\n",
       "<table border=\"1\" class=\"dataframe\">\n",
       "  <thead>\n",
       "    <tr style=\"text-align: right;\">\n",
       "      <th></th>\n",
       "      <th>Date</th>\n",
       "      <th>Stock_Open</th>\n",
       "      <th>Stock_Close</th>\n",
       "      <th>Stock_Volume</th>\n",
       "      <th>Stock_Returns</th>\n",
       "    </tr>\n",
       "  </thead>\n",
       "  <tbody>\n",
       "    <tr>\n",
       "      <th>0</th>\n",
       "      <td>2017-10-25</td>\n",
       "      <td>$2,566.52</td>\n",
       "      <td>$2,557.15</td>\n",
       "      <td>3,874,510,000</td>\n",
       "      <td>0.00%</td>\n",
       "    </tr>\n",
       "    <tr>\n",
       "      <th>1</th>\n",
       "      <td>2017-10-26</td>\n",
       "      <td>$2,560.08</td>\n",
       "      <td>$2,560.40</td>\n",
       "      <td>3,869,050,000</td>\n",
       "      <td>0.13%</td>\n",
       "    </tr>\n",
       "    <tr>\n",
       "      <th>2</th>\n",
       "      <td>2017-10-27</td>\n",
       "      <td>$2,570.26</td>\n",
       "      <td>$2,581.07</td>\n",
       "      <td>3,887,110,000</td>\n",
       "      <td>0.81%</td>\n",
       "    </tr>\n",
       "    <tr>\n",
       "      <th>3</th>\n",
       "      <td>2017-10-30</td>\n",
       "      <td>$2,577.75</td>\n",
       "      <td>$2,572.83</td>\n",
       "      <td>3,658,870,000</td>\n",
       "      <td>-0.32%</td>\n",
       "    </tr>\n",
       "    <tr>\n",
       "      <th>4</th>\n",
       "      <td>2017-10-31</td>\n",
       "      <td>$2,575.99</td>\n",
       "      <td>$2,575.26</td>\n",
       "      <td>3,827,230,000</td>\n",
       "      <td>0.09%</td>\n",
       "    </tr>\n",
       "  </tbody>\n",
       "</table>\n",
       "</div>"
      ],
      "text/plain": [
       "         Date Stock_Open Stock_Close   Stock_Volume Stock_Returns\n",
       "0  2017-10-25  $2,566.52   $2,557.15  3,874,510,000         0.00%\n",
       "1  2017-10-26  $2,560.08   $2,560.40  3,869,050,000         0.13%\n",
       "2  2017-10-27  $2,570.26   $2,581.07  3,887,110,000         0.81%\n",
       "3  2017-10-30  $2,577.75   $2,572.83  3,658,870,000        -0.32%\n",
       "4  2017-10-31  $2,575.99   $2,575.26  3,827,230,000         0.09%"
      ]
     },
     "execution_count": 4,
     "metadata": {},
     "output_type": "execute_result"
    }
   ],
   "source": [
    "stock_df[\"Stock_Open\"] = stock_df[\"Stock_Open\"].map('${:,.2f}'.format)\n",
    "stock_df[\"Stock_Close\"] = stock_df[\"Stock_Close\"].map('${:,.2f}'.format)\n",
    "stock_df['Stock_Volume'] = stock_df.apply(lambda x: \"{:,}\".format(x['Stock_Volume']), axis=1)\n",
    "stock_df[\"Stock_Returns\"] = stock_df[\"Stock_Returns\"].map('{0:.2f}%'.format)\n",
    "stock_df.head()"
   ]
  },
  {
   "cell_type": "markdown",
   "metadata": {},
   "source": [
    "### Store 2nd CSV data into a DataFrame"
   ]
  },
  {
   "cell_type": "code",
   "execution_count": 5,
   "metadata": {},
   "outputs": [
    {
     "data": {
      "text/html": [
       "<div>\n",
       "<style scoped>\n",
       "    .dataframe tbody tr th:only-of-type {\n",
       "        vertical-align: middle;\n",
       "    }\n",
       "\n",
       "    .dataframe tbody tr th {\n",
       "        vertical-align: top;\n",
       "    }\n",
       "\n",
       "    .dataframe thead th {\n",
       "        text-align: right;\n",
       "    }\n",
       "</style>\n",
       "<table border=\"1\" class=\"dataframe\">\n",
       "  <thead>\n",
       "    <tr style=\"text-align: right;\">\n",
       "      <th></th>\n",
       "      <th>Date</th>\n",
       "      <th>Open</th>\n",
       "      <th>Settle</th>\n",
       "      <th>Volume</th>\n",
       "    </tr>\n",
       "  </thead>\n",
       "  <tbody>\n",
       "    <tr>\n",
       "      <th>0</th>\n",
       "      <td>2018-10-29</td>\n",
       "      <td>2667.4</td>\n",
       "      <td>2643.6</td>\n",
       "      <td>3911.0</td>\n",
       "    </tr>\n",
       "    <tr>\n",
       "      <th>1</th>\n",
       "      <td>2018-10-26</td>\n",
       "      <td>2675.0</td>\n",
       "      <td>2669.6</td>\n",
       "      <td>3207.0</td>\n",
       "    </tr>\n",
       "    <tr>\n",
       "      <th>2</th>\n",
       "      <td>2018-10-25</td>\n",
       "      <td>2668.3</td>\n",
       "      <td>2688.2</td>\n",
       "      <td>3972.0</td>\n",
       "    </tr>\n",
       "    <tr>\n",
       "      <th>3</th>\n",
       "      <td>2018-10-24</td>\n",
       "      <td>2742.1</td>\n",
       "      <td>2664.3</td>\n",
       "      <td>4307.0</td>\n",
       "    </tr>\n",
       "    <tr>\n",
       "      <th>4</th>\n",
       "      <td>2018-10-23</td>\n",
       "      <td>2753.0</td>\n",
       "      <td>2746.2</td>\n",
       "      <td>1700.0</td>\n",
       "    </tr>\n",
       "  </tbody>\n",
       "</table>\n",
       "</div>"
      ],
      "text/plain": [
       "         Date    Open  Settle  Volume\n",
       "0  2018-10-29  2667.4  2643.6  3911.0\n",
       "1  2018-10-26  2675.0  2669.6  3207.0\n",
       "2  2018-10-25  2668.3  2688.2  3972.0\n",
       "3  2018-10-24  2742.1  2664.3  4307.0\n",
       "4  2018-10-23  2753.0  2746.2  1700.0"
      ]
     },
     "execution_count": 5,
     "metadata": {},
     "output_type": "execute_result"
    }
   ],
   "source": [
    "FUT = \"Resources\\CHRIS-CME_SP1.csv\"\n",
    "future_df = pd.read_csv(FUT)\n",
    "future_df = future_df[[\"Date\", \"Open\", \"Settle\", \"Volume\"]]\n",
    "future_df.head()"
   ]
  },
  {
   "cell_type": "markdown",
   "metadata": {},
   "source": [
    "### Clean DataFrame"
   ]
  },
  {
   "cell_type": "code",
   "execution_count": 6,
   "metadata": {},
   "outputs": [
    {
     "name": "stderr",
     "output_type": "stream",
     "text": [
      "C:\\Users\\Pankaj\\Anaconda3\\envs\\PythonData\\lib\\site-packages\\ipykernel_launcher.py:3: DeprecationWarning: \n",
      ".ix is deprecated. Please use\n",
      ".loc for label based indexing or\n",
      ".iloc for positional indexing\n",
      "\n",
      "See the documentation here:\n",
      "http://pandas.pydata.org/pandas-docs/stable/indexing.html#ix-indexer-is-deprecated\n",
      "  This is separate from the ipykernel package so we can avoid doing imports until\n"
     ]
    }
   ],
   "source": [
    "future_df = future_df.loc[:,['Date','Open','Settle', 'Volume']].sort_values('Date',ascending=True).set_index('Date')\n",
    "future_df['Futures_Returns'] = future_df['Settle'].pct_change().fillna(0) * 100\n",
    "future_df = future_df.ix['2017-10-25':'2018-10-25'].reset_index()\n",
    "future_df = future_df.rename(columns={'Volume':'Futures_Volume', 'Open':'Futures_Open', 'Settle':'Futures_Settle'})"
   ]
  },
  {
   "cell_type": "code",
   "execution_count": 7,
   "metadata": {},
   "outputs": [
    {
     "data": {
      "text/html": [
       "<div>\n",
       "<style scoped>\n",
       "    .dataframe tbody tr th:only-of-type {\n",
       "        vertical-align: middle;\n",
       "    }\n",
       "\n",
       "    .dataframe tbody tr th {\n",
       "        vertical-align: top;\n",
       "    }\n",
       "\n",
       "    .dataframe thead th {\n",
       "        text-align: right;\n",
       "    }\n",
       "</style>\n",
       "<table border=\"1\" class=\"dataframe\">\n",
       "  <thead>\n",
       "    <tr style=\"text-align: right;\">\n",
       "      <th></th>\n",
       "      <th>Date</th>\n",
       "      <th>Futures_Open</th>\n",
       "      <th>Futures_Settle</th>\n",
       "      <th>Futures_Volume</th>\n",
       "      <th>Futures_Returns</th>\n",
       "    </tr>\n",
       "  </thead>\n",
       "  <tbody>\n",
       "    <tr>\n",
       "      <th>0</th>\n",
       "      <td>2017-10-25</td>\n",
       "      <td>$2,566.30</td>\n",
       "      <td>$2,558.50</td>\n",
       "      <td>4,654.0</td>\n",
       "      <td>-0.34%</td>\n",
       "    </tr>\n",
       "    <tr>\n",
       "      <th>1</th>\n",
       "      <td>2017-10-26</td>\n",
       "      <td>$2,558.70</td>\n",
       "      <td>$2,561.60</td>\n",
       "      <td>5,558.0</td>\n",
       "      <td>0.12%</td>\n",
       "    </tr>\n",
       "    <tr>\n",
       "      <th>2</th>\n",
       "      <td>2017-10-27</td>\n",
       "      <td>$2,559.00</td>\n",
       "      <td>$2,578.40</td>\n",
       "      <td>3,531.0</td>\n",
       "      <td>0.66%</td>\n",
       "    </tr>\n",
       "    <tr>\n",
       "      <th>3</th>\n",
       "      <td>2017-10-30</td>\n",
       "      <td>$2,575.00</td>\n",
       "      <td>$2,568.30</td>\n",
       "      <td>1,787.0</td>\n",
       "      <td>-0.39%</td>\n",
       "    </tr>\n",
       "    <tr>\n",
       "      <th>4</th>\n",
       "      <td>2017-10-31</td>\n",
       "      <td>$2,567.20</td>\n",
       "      <td>$2,572.70</td>\n",
       "      <td>898.0</td>\n",
       "      <td>0.17%</td>\n",
       "    </tr>\n",
       "  </tbody>\n",
       "</table>\n",
       "</div>"
      ],
      "text/plain": [
       "         Date Futures_Open Futures_Settle Futures_Volume Futures_Returns\n",
       "0  2017-10-25    $2,566.30      $2,558.50        4,654.0          -0.34%\n",
       "1  2017-10-26    $2,558.70      $2,561.60        5,558.0           0.12%\n",
       "2  2017-10-27    $2,559.00      $2,578.40        3,531.0           0.66%\n",
       "3  2017-10-30    $2,575.00      $2,568.30        1,787.0          -0.39%\n",
       "4  2017-10-31    $2,567.20      $2,572.70          898.0           0.17%"
      ]
     },
     "execution_count": 7,
     "metadata": {},
     "output_type": "execute_result"
    }
   ],
   "source": [
    "future_df[\"Futures_Open\"] = future_df[\"Futures_Open\"].map('${:,.2f}'.format)\n",
    "future_df[\"Futures_Settle\"] = future_df[\"Futures_Settle\"].map('${:,.2f}'.format)\n",
    "future_df['Futures_Volume'] = future_df.apply(lambda x: \"{:,}\".format(x['Futures_Volume']), axis=1)\n",
    "future_df[\"Futures_Returns\"] = future_df[\"Futures_Returns\"].map('{0:.2f}%'.format)\n",
    "future_df.head()"
   ]
  },
  {
   "cell_type": "markdown",
   "metadata": {},
   "source": [
    "### Connect to local database"
   ]
  },
  {
   "cell_type": "code",
   "execution_count": null,
   "metadata": {},
   "outputs": [],
   "source": [
    "rds_connection_string = \"<inser user name>:<insert password>@127.0.0.1/etl_db\"\n",
    "engine = create_engine(f'mysql://{rds_connection_string}')"
   ]
  },
  {
   "cell_type": "markdown",
   "metadata": {},
   "source": [
    "### Check for tables"
   ]
  },
  {
   "cell_type": "code",
   "execution_count": null,
   "metadata": {},
   "outputs": [],
   "source": [
    "engine.table_names()"
   ]
  },
  {
   "cell_type": "markdown",
   "metadata": {},
   "source": [
    "### Use pandas to load csv converted DataFrame into database"
   ]
  },
  {
   "cell_type": "code",
   "execution_count": null,
   "metadata": {},
   "outputs": [],
   "source": [
    "etl_db.to_sql(name='stocks', con=engine, if_exists='append', index=False)"
   ]
  },
  {
   "cell_type": "markdown",
   "metadata": {},
   "source": [
    "### Use pandas to load json converted DataFrame into database"
   ]
  },
  {
   "cell_type": "code",
   "execution_count": null,
   "metadata": {},
   "outputs": [],
   "source": [
    "etl_db.to_sql(name='futures', con=engine, if_exists='append', index=False)"
   ]
  },
  {
   "cell_type": "markdown",
   "metadata": {},
   "source": [
    "### Confirm data has been added by querying the customer_location table"
   ]
  },
  {
   "cell_type": "markdown",
   "metadata": {},
   "source": [
    "* NOTE: can also check using pgAdmin"
   ]
  },
  {
   "cell_type": "code",
   "execution_count": null,
   "metadata": {},
   "outputs": [],
   "source": [
    "pd.read_sql_query('select * from stocks', con=engine).head()"
   ]
  },
  {
   "cell_type": "markdown",
   "metadata": {},
   "source": [
    "### Confirm data has been added by querying the customer_location table"
   ]
  },
  {
   "cell_type": "code",
   "execution_count": null,
   "metadata": {},
   "outputs": [],
   "source": [
    "pd.read_sql_query('select * from futures', con=engine).head()"
   ]
  },
  {
   "cell_type": "code",
   "execution_count": null,
   "metadata": {},
   "outputs": [],
   "source": [
    "\"\"\"\n",
    "MERGE TABLES\n",
    "OUTPUT THEM HERE\n",
    "\"\"\""
   ]
  }
 ],
 "metadata": {
  "kernelspec": {
   "display_name": "Python 3",
   "language": "python",
   "name": "python3"
  },
  "language_info": {
   "codemirror_mode": {
    "name": "ipython",
    "version": 3
   },
   "file_extension": ".py",
   "mimetype": "text/x-python",
   "name": "python",
   "nbconvert_exporter": "python",
   "pygments_lexer": "ipython3",
   "version": "3.6.5"
  }
 },
 "nbformat": 4,
 "nbformat_minor": 2
}
